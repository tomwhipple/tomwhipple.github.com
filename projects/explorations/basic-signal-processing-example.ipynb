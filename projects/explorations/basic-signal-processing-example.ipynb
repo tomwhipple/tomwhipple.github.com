{
 "metadata": {
  "name": "",
  "signature": "sha256:ec7e42cab4eeb3abc2cfd13efec997ebd817d7d6b2e1fe5dbe35d03036e32e97"
 },
 "nbformat": 3,
 "nbformat_minor": 0,
 "worksheets": [
  {
   "cells": [
    {
     "cell_type": "markdown",
     "metadata": {},
     "source": [
      "Basic signal processing with IPython Notebook\n",
      "============================================="
     ]
    },
    {
     "cell_type": "markdown",
     "metadata": {},
     "source": [
      "This IPython notebook revisits a [previous example](/projects/explorations/html/wavelets.html) I did in Matlab several years ago. RF signal processing came up as a topic of discussion recenetly, so this example is intended as a refresher/primer and exploration of IPython notebook."
     ]
    },
    {
     "cell_type": "markdown",
     "metadata": {},
     "source": [
      "Prerequisites\n",
      "-------------"
     ]
    },
    {
     "cell_type": "code",
     "collapsed": false,
     "input": [
      "%matplotlib inline"
     ],
     "language": "python",
     "metadata": {},
     "outputs": [],
     "prompt_number": 20
    },
    {
     "cell_type": "code",
     "collapsed": false,
     "input": [
      "from matplotlib.pyplot import *\n",
      "from numpy import *"
     ],
     "language": "python",
     "metadata": {},
     "outputs": [],
     "prompt_number": 21
    },
    {
     "cell_type": "markdown",
     "metadata": {},
     "source": [
      "Next power of two function. We'll need it later, since the FFT algorithim is only fast for powers of two. That's not important for this example, but in real implementations it needs to execute for every sample window."
     ]
    },
    {
     "cell_type": "code",
     "collapsed": false,
     "input": [
      "def nextpow2(x):\n",
      "    return int(pow(2,ceil(log2(x))))"
     ],
     "language": "python",
     "metadata": {},
     "outputs": [],
     "prompt_number": 22
    },
    {
     "cell_type": "markdown",
     "metadata": {},
     "source": [
      "Example signal construction\n",
      "--------------"
     ]
    },
    {
     "cell_type": "markdown",
     "metadata": {},
     "source": [
      "Set the sample frequency and duration. "
     ]
    },
    {
     "cell_type": "code",
     "collapsed": false,
     "input": [
      "F_samp = 250\n",
      "t_max = .2"
     ],
     "language": "python",
     "metadata": {},
     "outputs": [],
     "prompt_number": 23
    },
    {
     "cell_type": "markdown",
     "metadata": {},
     "source": [
      "Values of `t` are then spaced at interval `1/F_samp`. "
     ]
    },
    {
     "cell_type": "code",
     "collapsed": false,
     "input": [
      "t = np.matrix(np.linspace(0, t_max, num=F_samp*t_max))"
     ],
     "language": "python",
     "metadata": {},
     "outputs": [],
     "prompt_number": 24
    },
    {
     "cell_type": "markdown",
     "metadata": {},
     "source": [
      "Set the amplitude (`A`) and frequecny (`W`) of our example signals."
     ]
    },
    {
     "cell_type": "code",
     "collapsed": false,
     "input": [
      "A = np.matrix(\"[1.0 1.4]\")\n",
      "W = np.matrix(\"[45 106]\")"
     ],
     "language": "python",
     "metadata": {},
     "outputs": [],
     "prompt_number": 25
    },
    {
     "cell_type": "markdown",
     "metadata": {},
     "source": [
      "Now, construct the signal, including a random noise component. This is the signal that would be observed by the reciever."
     ]
    },
    {
     "cell_type": "code",
     "collapsed": false,
     "input": [
      "sig = A * sin(2*pi*W.T*t) + matrix(random.normal(size=t.shape))"
     ],
     "language": "python",
     "metadata": {},
     "outputs": [],
     "prompt_number": 26
    },
    {
     "cell_type": "code",
     "collapsed": false,
     "input": [
      "plot(np.squeeze(t.A),np.squeeze(sig.A))"
     ],
     "language": "python",
     "metadata": {},
     "outputs": [
      {
       "metadata": {},
       "output_type": "pyout",
       "prompt_number": 27,
       "text": [
        "[<matplotlib.lines.Line2D at 0x10d8ec090>]"
       ]
      },
      {
       "metadata": {},
       "output_type": "display_data",
       "png": "[encoded data removed]",
       "text": [
        "<matplotlib.figure.Figure at 0x10d8067d0>"
       ]
      }
     ],
     "prompt_number": 27
    },
    {
     "cell_type": "markdown",
     "metadata": {},
     "source": [
      "Signal detection\n",
      "----------------"
     ]
    },
    {
     "cell_type": "markdown",
     "metadata": {},
     "source": [
      "Typically, we want to know frequencies of any recieved signals. So, use a fast fourier transform. The FFT algorithim is \"fast\" when the number of frequency \"bins\" is a power of two. If we use fewer bins than we have observations, we'll lose information. So, we'll use the next power.\n",
      "\n",
      "We'll also normalize so that the reported amplitude (y-axis) is in the correct range."
     ]
    },
    {
     "cell_type": "code",
     "collapsed": false,
     "input": [
      "F_max = nextpow2(F_samp)\n",
      "spec = np.fft.fft(sig, F_max)/(F_samp*t_max)"
     ],
     "language": "python",
     "metadata": {},
     "outputs": [],
     "prompt_number": 28
    },
    {
     "cell_type": "markdown",
     "metadata": {},
     "source": [
      "Create the observed frequency values (x-axis). The Nyquist theorem tells us that the maximum frequency we can observe is half of the sample frequency, so we'll use `F_max/2` as the upper limit."
     ]
    },
    {
     "cell_type": "code",
     "collapsed": false,
     "input": [
      "F_obs = F_samp/2*linspace(0, 1, F_max/2)"
     ],
     "language": "python",
     "metadata": {},
     "outputs": [],
     "prompt_number": 29
    },
    {
     "cell_type": "markdown",
     "metadata": {},
     "source": [
      "Also as a consequence of Nyquist, the spectrum returned by the fft is approximately symetric about the y-axis. Typically, we'll only plot the positive half of the graph."
     ]
    },
    {
     "cell_type": "code",
     "collapsed": false,
     "input": [
      "spec_2 = np.squeeze(2*abs( spec[:,0:(F_max/2)] ))"
     ],
     "language": "python",
     "metadata": {},
     "outputs": [],
     "prompt_number": 30
    },
    {
     "cell_type": "markdown",
     "metadata": {},
     "source": [
      "Finally, we'll plot the spectrum. Notice the two peaks corresponding to `W` with heights similar to `A`. The height won't match exactly because we've added noise."
     ]
    },
    {
     "cell_type": "code",
     "collapsed": false,
     "input": [
      "plot(F_obs, spec_2);"
     ],
     "language": "python",
     "metadata": {},
     "outputs": [
      {
       "metadata": {},
       "output_type": "display_data",
       "png": "[encoded data removed]",
       "text": [
        "<matplotlib.figure.Figure at 0x10d605f10>"
       ]
      }
     ],
     "prompt_number": 31
    },
    {
     "cell_type": "markdown",
     "metadata": {},
     "source": [
      "The simplest detection mechinisim is to implement detection as a simple threshold, where the threshold is set to be just above the expected noise. (We can naively guess the threshold by setting `A = [0, 0]` above and looking looking at this plot. i.e., we're observing background noise when we know that there's no signal.)"
     ]
    },
    {
     "cell_type": "code",
     "collapsed": false,
     "input": [
      "thresh = 0.65"
     ],
     "language": "python",
     "metadata": {},
     "outputs": [],
     "prompt_number": 32
    },
    {
     "cell_type": "markdown",
     "metadata": {},
     "source": [
      "We can quickly visualize what part of the spectrum is above the threshold."
     ]
    },
    {
     "cell_type": "code",
     "collapsed": false,
     "input": [
      "plot(F_obs, spec_2);\n",
      "hlines(thresh,0,F_max/2)"
     ],
     "language": "python",
     "metadata": {},
     "outputs": [
      {
       "metadata": {},
       "output_type": "pyout",
       "prompt_number": 33,
       "text": [
        "<matplotlib.collections.LineCollection at 0x10d9734d0>"
       ]
      },
      {
       "metadata": {},
       "output_type": "display_data",
       "png": "[encoded data removed]",
       "text": [
        "<matplotlib.figure.Figure at 0x10c9b4150>"
       ]
      }
     ],
     "prompt_number": 33
    },
    {
     "cell_type": "markdown",
     "metadata": {},
     "source": [
      "But, we need to mask out the part below the threshold."
     ]
    },
    {
     "cell_type": "code",
     "collapsed": false,
     "input": [
      "spec2_thresh = (spec_2 > thresh) * spec_2"
     ],
     "language": "python",
     "metadata": {},
     "outputs": [],
     "prompt_number": 34
    },
    {
     "cell_type": "markdown",
     "metadata": {},
     "source": [
      "Then we can find zero crossings of the first derivative."
     ]
    },
    {
     "cell_type": "code",
     "collapsed": false,
     "input": [
      "d_spec2_thresh = diff(spec2_thresh)\n",
      "match = convolve(sign(d_spec2_thresh), [-1,1])\n",
      "plot(F_obs, match)"
     ],
     "language": "python",
     "metadata": {},
     "outputs": [
      {
       "metadata": {},
       "output_type": "pyout",
       "prompt_number": 35,
       "text": [
        "[<matplotlib.lines.Line2D at 0x10da10710>]"
       ]
      },
      {
       "metadata": {},
       "output_type": "display_data",
       "png": "[encoded data removed]",
       "text": [
        "<matplotlib.figure.Figure at 0x10d97f2d0>"
       ]
      }
     ],
     "prompt_number": 35
    },
    {
     "cell_type": "code",
     "collapsed": false,
     "input": [
      "idx = nonzero(match>0)[0]-2\n",
      "idx "
     ],
     "language": "python",
     "metadata": {},
     "outputs": [
      {
       "metadata": {},
       "output_type": "pyout",
       "prompt_number": 36,
       "text": [
        "array([ 45, 108])"
       ]
      }
     ],
     "prompt_number": 36
    },
    {
     "cell_type": "code",
     "collapsed": false,
     "input": [
      "F_obs[idx]"
     ],
     "language": "python",
     "metadata": {},
     "outputs": [
      {
       "metadata": {},
       "output_type": "pyout",
       "prompt_number": 37,
       "text": [
        "array([  44.29133858,  106.2992126 ])"
       ]
      }
     ],
     "prompt_number": 37
    },
    {
     "cell_type": "markdown",
     "metadata": {},
     "source": [
      "Which is close to our original signal `W`. Note that we corrected the index by two: Once for the element lost in the discrete difference step, and once for the convolution."
     ]
    },
    {
     "cell_type": "code",
     "collapsed": false,
     "input": [
      "W"
     ],
     "language": "python",
     "metadata": {},
     "outputs": [
      {
       "metadata": {},
       "output_type": "pyout",
       "prompt_number": 38,
       "text": [
        "matrix([[ 45, 106]])"
       ]
      }
     ],
     "prompt_number": 38
    },
    {
     "cell_type": "markdown",
     "metadata": {},
     "source": [
      "Now that we have the basics, we're ready to apply these steps to a much larger signal in the next example."
     ]
    }
   ],
   "metadata": {}
  }
 ]
}